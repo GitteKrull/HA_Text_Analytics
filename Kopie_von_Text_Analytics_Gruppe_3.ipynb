{
  "nbformat": 4,
  "nbformat_minor": 0,
  "metadata": {
    "colab": {
      "provenance": [],
      "include_colab_link": true
    },
    "kernelspec": {
      "name": "python3",
      "display_name": "Python 3"
    },
    "language_info": {
      "name": "python"
    }
  },
  "cells": [
    {
      "cell_type": "markdown",
      "metadata": {
        "id": "view-in-github",
        "colab_type": "text"
      },
      "source": [
        "<a href=\"https://colab.research.google.com/github/GitteKrull/HA_Text_Analytics/blob/main/Kopie_von_Text_Analytics_Gruppe_3.ipynb\" target=\"_parent\"><img src=\"https://colab.research.google.com/assets/colab-badge.svg\" alt=\"Open In Colab\"/></a>"
      ]
    },
    {
      "cell_type": "markdown",
      "source": [
        "### Import der Libraries"
      ],
      "metadata": {
        "id": "6apVhgqFkvwu"
      }
    },
    {
      "cell_type": "code",
      "source": [],
      "metadata": {
        "id": "IvJIpPED6hgo"
      },
      "execution_count": 4,
      "outputs": []
    },
    {
      "cell_type": "code",
      "execution_count": 5,
      "metadata": {
        "id": "xsGdwzXJb6U4"
      },
      "outputs": [],
      "source": [
        "# Imports\n",
        "\n",
        "import pandas as pd"
      ]
    },
    {
      "cell_type": "markdown",
      "source": [
        "### Data loading"
      ],
      "metadata": {
        "id": "9uL4tDGfk1cZ"
      }
    },
    {
      "cell_type": "code",
      "source": [
        "# clone the git repo\n",
        "!git clone https://github.com/cody0199/HA_Text_Analytics.git"
      ],
      "metadata": {
        "id": "_6mjv__XdTlk",
        "colab": {
          "base_uri": "https://localhost:8080/"
        },
        "outputId": "6504094f-eb77-4583-95f1-6c6d713f4e40"
      },
      "execution_count": 6,
      "outputs": [
        {
          "output_type": "stream",
          "name": "stdout",
          "text": [
            "fatal: destination path 'HA_Text_Analytics' already exists and is not an empty directory.\n"
          ]
        }
      ]
    },
    {
      "cell_type": "code",
      "source": [
        "# data is in 00-data \n",
        "data_folder = \"/content/HA_Text_Analytics/00-Data\"\n",
        "\n",
        "# file loading for dir\n",
        "file_list = []\n",
        "for root, dirs, filenames in os.walk(data_folder):\n",
        "    for filename in filenames:\n",
        "        if filename.endswith('.xlsx'):\n",
        "            print(filename)\n",
        "            file = pd.read_excel(os.path.join(root, filename))\n",
        "            file_list.append(file)\n",
        "df = pd.concat(file_list, axis=0, ignore_index=True)\n",
        "print(\"*********************\")"
      ],
      "metadata": {
        "colab": {
          "base_uri": "https://localhost:8080/",
          "height": 232
        },
        "id": "7e3qqFfjgKLm",
        "outputId": "d70e07e1-f282-46c5-c9da-c778db5fc12c"
      },
      "execution_count": 7,
      "outputs": [
        {
          "output_type": "error",
          "ename": "NameError",
          "evalue": "ignored",
          "traceback": [
            "\u001b[0;31m---------------------------------------------------------------------------\u001b[0m",
            "\u001b[0;31mNameError\u001b[0m                                 Traceback (most recent call last)",
            "\u001b[0;32m<ipython-input-7-da8faf317a12>\u001b[0m in \u001b[0;36m<module>\u001b[0;34m\u001b[0m\n\u001b[1;32m      4\u001b[0m \u001b[0;31m# file loading for dir\u001b[0m\u001b[0;34m\u001b[0m\u001b[0;34m\u001b[0m\u001b[0;34m\u001b[0m\u001b[0m\n\u001b[1;32m      5\u001b[0m \u001b[0mfile_list\u001b[0m \u001b[0;34m=\u001b[0m \u001b[0;34m[\u001b[0m\u001b[0;34m]\u001b[0m\u001b[0;34m\u001b[0m\u001b[0;34m\u001b[0m\u001b[0m\n\u001b[0;32m----> 6\u001b[0;31m \u001b[0;32mfor\u001b[0m \u001b[0mroot\u001b[0m\u001b[0;34m,\u001b[0m \u001b[0mdirs\u001b[0m\u001b[0;34m,\u001b[0m \u001b[0mfilenames\u001b[0m \u001b[0;32min\u001b[0m \u001b[0mos\u001b[0m\u001b[0;34m.\u001b[0m\u001b[0mwalk\u001b[0m\u001b[0;34m(\u001b[0m\u001b[0mdata_folder\u001b[0m\u001b[0;34m)\u001b[0m\u001b[0;34m:\u001b[0m\u001b[0;34m\u001b[0m\u001b[0;34m\u001b[0m\u001b[0m\n\u001b[0m\u001b[1;32m      7\u001b[0m     \u001b[0;32mfor\u001b[0m \u001b[0mfilename\u001b[0m \u001b[0;32min\u001b[0m \u001b[0mfilenames\u001b[0m\u001b[0;34m:\u001b[0m\u001b[0;34m\u001b[0m\u001b[0;34m\u001b[0m\u001b[0m\n\u001b[1;32m      8\u001b[0m         \u001b[0;32mif\u001b[0m \u001b[0mfilename\u001b[0m\u001b[0;34m.\u001b[0m\u001b[0mendswith\u001b[0m\u001b[0;34m(\u001b[0m\u001b[0;34m'.xlsx'\u001b[0m\u001b[0;34m)\u001b[0m\u001b[0;34m:\u001b[0m\u001b[0;34m\u001b[0m\u001b[0;34m\u001b[0m\u001b[0m\n",
            "\u001b[0;31mNameError\u001b[0m: name 'os' is not defined"
          ]
        }
      ]
    },
    {
      "cell_type": "code",
      "source": [
        "#show df\n",
        "df"
      ],
      "metadata": {
        "id": "W4eBV5XtgNUw"
      },
      "execution_count": null,
      "outputs": []
    },
    {
      "cell_type": "code",
      "source": [
        "# load all files individually\n",
        "path=\"/content/HA_Text_Analytics/00-Data/\"\n",
        "df_1=pd.read_excel(path+\"bereinigte_daten_gruppe_5.xlsx\")\n",
        "df_2=pd.read_excel(path+\"Gruppe 1 Aufgabe 1 Lösung Loges.xlsx\")\n",
        "df_3=pd.read_excel(path+\"analyst_gecrawled_unbereinigt.xlsx\")\n",
        "df_4=pd.read_excel(path+\"data_indeed_schmidt_achim.xlsx\")\n",
        "df_5=pd.read_excel(path+\"IndeedDaten_Gruppe4.xlsx\")\n",
        "df_6=pd.read_excel(path+\"Data_G3-final.xlsx\")"
      ],
      "metadata": {
        "id": "f1l814FvgDYr"
      },
      "execution_count": null,
      "outputs": []
    },
    {
      "cell_type": "code",
      "source": [
        "# show columns \n",
        "print(df_1.columns)\n",
        "print(df_2.columns)\n",
        "print(df_3.columns)\n",
        "print(df_4.columns)\n",
        "print(df_5.columns)\n",
        "print(df_6.columns)"
      ],
      "metadata": {
        "id": "vUWVQxOnglXl"
      },
      "execution_count": null,
      "outputs": []
    },
    {
      "cell_type": "code",
      "source": [
        "df_2=df_2.rename(columns={\"Jobtitel\":\"Titel\", \"Firma\":\"Unternehmen\", \"Stellenbeschreibung\":\"Text\"})\n",
        "df_3=df_3.rename(columns={\"Jobtitel\":\"Titel\"})\n",
        "df_4=df_4.rename(columns={\"Jobtitel\":\"Titel\", \"Firma\":\"Unternehmen\", \"Beschreibung\":\"Text\"})"
      ],
      "metadata": {
        "id": "vjYFBcPBg8Vw"
      },
      "execution_count": null,
      "outputs": []
    },
    {
      "cell_type": "code",
      "source": [
        "df_2=df_2.filter(['Titel', 'Unternehmen', 'Text'])\n",
        "df_4=df_4.filter(['Titel', 'Unternehmen', 'Text'])"
      ],
      "metadata": {
        "id": "Pbolz5EDhkw6"
      },
      "execution_count": null,
      "outputs": []
    },
    {
      "cell_type": "code",
      "source": [
        "print(df_1.columns)\n",
        "print(df_2.columns)\n",
        "print(df_3.columns)\n",
        "print(df_4.columns)\n",
        "print(df_5.columns)\n",
        "print(df_6.columns)"
      ],
      "metadata": {
        "id": "qqO7Dy7mhfU0"
      },
      "execution_count": null,
      "outputs": []
    },
    {
      "cell_type": "code",
      "source": [
        "df_list=[df_1,df_2,df_3,df_4,df_5,df_6]\n",
        "df=pd.concat(df_list)\n",
        "print(\"number of entires:\", str(len(df)))\n",
        "print(\"number of entires:\", str(df.Text.nunique()))"
      ],
      "metadata": {
        "id": "uE71PTfUhuyv"
      },
      "execution_count": null,
      "outputs": []
    },
    {
      "cell_type": "code",
      "source": [
        "df"
      ],
      "metadata": {
        "id": "bBrVrBpX160F"
      },
      "execution_count": null,
      "outputs": []
    },
    {
      "cell_type": "markdown",
      "source": [
        "### Explorative Analysis"
      ],
      "metadata": {
        "id": "LkTwDE5O3Nza"
      }
    },
    {
      "cell_type": "code",
      "source": [
        "df.info()"
      ],
      "metadata": {
        "id": "TBmVIm3-355J"
      },
      "execution_count": null,
      "outputs": []
    },
    {
      "cell_type": "code",
      "source": [
        "print(df.isna().sum())\n",
        "df=df.notna()\n",
        "print(df.isna().sum())"
      ],
      "metadata": {
        "id": "gIuMReHe2M3d"
      },
      "execution_count": null,
      "outputs": []
    },
    {
      "cell_type": "code",
      "source": [
        "df=df.drop_duplicates()\n",
        "df=df.drop_duplicates(subset=\"Text\")"
      ],
      "metadata": {
        "id": "PTIcsdZ94dDR"
      },
      "execution_count": null,
      "outputs": []
    },
    {
      "cell_type": "code",
      "source": [
        "df.Text=df.Text.astype(str)\n",
        "df[\"length\"]=[len(i) for i in df[\"Text\"]]"
      ],
      "metadata": {
        "id": "ohY80FIX3ebj"
      },
      "execution_count": null,
      "outputs": []
    },
    {
      "cell_type": "code",
      "source": [
        "df.Text.describe(include=\"O\")\n",
        "df.describe()"
      ],
      "metadata": {
        "id": "-us5PeOH4L8i"
      },
      "execution_count": null,
      "outputs": []
    },
    {
      "cell_type": "code",
      "source": [
        "#Eindeutigkeit und Häufigkeiten von Jobtitel\n",
        "df.unique(Titel)\n"
      ],
      "metadata": {
        "id": "Jo0_whZp6pf5"
      },
      "execution_count": null,
      "outputs": []
    },
    {
      "cell_type": "code",
      "source": [],
      "metadata": {
        "id": "W7a5uCRJ8Roa"
      },
      "execution_count": null,
      "outputs": []
    }
  ]
}